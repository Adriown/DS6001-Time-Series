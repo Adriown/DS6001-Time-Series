{
 "cells": [
  {
   "cell_type": "markdown",
   "metadata": {},
   "source": [
    "## Autocorrelation and Cross-Correlation\n",
    "\n",
    "Autocorrelation and cross-correlation can produce plots that are sometimes hard to interpret. By working with an understandable data set we can acquire intuition about these important methods for viewing time series."
   ]
  },
  {
   "cell_type": "code",
   "execution_count": null,
   "metadata": {},
   "outputs": [],
   "source": [
    "# Data and plotting\n",
    "import os\n",
    "import numpy as np\n",
    "import pandas as pd\n",
    "\n",
    "import matplotlib.pyplot as plt\n",
    "%matplotlib inline\n",
    "\n"
   ]
  },
  {
   "cell_type": "code",
   "execution_count": null,
   "metadata": {},
   "outputs": [],
   "source": [
    "# Read the data into a dictionary with one dataframe per year.\n",
    " \n",
    "path  = '/Users/donaldbrown/Dropbox/department/Classes/Data/BabyNames/'\n",
    "\n",
    "files = [file for file in os.listdir(path)\n",
    "        if file.startswith('yob')]\n",
    "years = np.array(sorted([int(file[3:7])\n",
    "                for file in files]))\n",
    "baby_names = {year: pd.read_csv(path + 'yob{y:d}.txt'.format(y= year),\n",
    "#baby_names = {year: pd.read_csv('/Users/donaldbrown/Dropbox/department/Classes/Data/BabyNames/yob{y:d}.txt'.format(y= year),\n",
    "                         index_col = 0, header = None,\n",
    "                         names = ['First name', 'Gender', 'Number']) for year in years}\n",
    "baby_names[2012].head()"
   ]
  },
  {
   "cell_type": "code",
   "execution_count": null,
   "metadata": {},
   "outputs": [],
   "source": [
    "# Most popular names in a year\n",
    "# the names are ordered by fequency in the files\n",
    "\n",
    "baby_names[1995]['Number'][baby_names[1995][\"Gender\"] == 'F'].head()"
   ]
  },
  {
   "cell_type": "code",
   "execution_count": null,
   "metadata": {},
   "outputs": [],
   "source": [
    "# Functions to get baby names as functions of gender and birth year\n",
    "\n",
    "def get_value(name, gender, year):\n",
    "    \"\"\"Returns the number of babies born in a given year\n",
    "    with the specified name and gender\"\"\"\n",
    "    try:\n",
    "        return baby_names[year] \\\n",
    "               [baby_names[year]['Gender'] == gender] \\\n",
    "               ['Number'][name]\n",
    "    except KeyError:\n",
    "        return 0 "
   ]
  },
  {
   "cell_type": "code",
   "execution_count": null,
   "metadata": {},
   "outputs": [],
   "source": [
    "# number of children with the selected name and  year\n",
    "\n",
    "Year = 2012\n",
    "Name = 'Catherine'\n",
    "\n",
    "name_number = get_value(Name, 'F', 2012)\n",
    "\n",
    "print(str(name_number) + ' babies named ' + str(Name) + ' were born in ' + str(Year))\n",
    "\n"
   ]
  },
  {
   "cell_type": "code",
   "execution_count": null,
   "metadata": {},
   "outputs": [],
   "source": [
    "# Function that gets the baby names over the years\n",
    "\n",
    "def get_series(name, gender):\n",
    "    \"\"\"Return the series of the baby name over time\"\"\"\n",
    "    return np.array([get_value(name, gender, year) for year in years])"
   ]
  },
  {
   "cell_type": "code",
   "execution_count": null,
   "metadata": {},
   "outputs": [],
   "source": [
    "# Autocorrelation function\n",
    "\n",
    "def autocorr(x):\n",
    "    \"\"\"Return the correlation of a time series with itself\n",
    "    at different lags\"\"\"\n",
    "    correlation = np.correlate(x,x, mode = 'full')\n",
    "    norm_corr = correlation[int(correlation.size/2):]/max(correlation[int(correlation.size/2):])\n",
    "    return norm_corr"
   ]
  },
  {
   "cell_type": "code",
   "execution_count": null,
   "metadata": {},
   "outputs": [],
   "source": [
    "# Plot of  the time series and autocorrelation\n",
    "# of baby names\n",
    "\n",
    "def autocorr_names(names):\n",
    "    fig, (ts_plot, ac_plot) = plt.subplots(1,2,figsize = (14,10))\n",
    "    for i in names.keys():\n",
    "        x = get_series(i, names[i])    \n",
    "        z = autocorr(x)\n",
    "        ts_plot.plot(years, x, '-o', label = i)\n",
    "        ts_plot.set_title(\"Baby Names\") \n",
    "        ts_plot.legend(loc = 'best')\n",
    "        ts_plot.set_xlabel(\"Years\")\n",
    "        ts_plot.set_ylabel(\"Number\")\n",
    "        #Autocorrelation\n",
    "        ac_plot.plot(z, '-', label = i)\n",
    "        ac_plot.legend(loc = 'best')\n",
    "        ac_plot.set_xlabel(\"Lags\")\n",
    "        ac_plot.set_title('Autocorrelation')\n",
    "        ac_plot.set_ylabel(\"Correlation\")"
   ]
  },
  {
   "cell_type": "markdown",
   "metadata": {},
   "source": [
    "## In-Class Exercise 1\n",
    "\n",
    "Use autocorr_names for several boy names and girl names and then explain the resulting plots"
   ]
  },
  {
   "cell_type": "code",
   "execution_count": 13,
   "metadata": {},
   "outputs": [],
   "source": [
    "# Cross-correlation function\n",
    "\n",
    "def crosscorr(x,y):\n",
    "    \"\"\"Return the cross correlation of 2 time series \n",
    "    at different lags\"\"\"\n",
    "    xcorrelation = np.correlate(x,y, mode = 'full')\n",
    "    norm_xcorr = xcorrelation[int(xcorrelation.size/2):]/max(xcorrelation[int(xcorrelation.size/2):])\n",
    "    return norm_xcorr"
   ]
  },
  {
   "cell_type": "code",
   "execution_count": 14,
   "metadata": {},
   "outputs": [],
   "source": [
    "# Plot of  the time series and crosscorrelation\n",
    "# of baby names\n",
    "\n",
    "from sklearn.preprocessing import StandardScaler\n",
    "\n",
    "scaler = StandardScaler()\n",
    "\n",
    "def crosscorr_names(names):\n",
    "    fig, (ts_plot, xc_plot) = plt.subplots(2,1,figsize = (14,10))\n",
    "    keys = list(names)    \n",
    "    name1 = keys[0]\n",
    "    name2 = keys[1]\n",
    "    name1_series = get_series(name1, names[name1])\n",
    "    name2_series = get_series(name2, names[name2])\n",
    "    ts_plot.plot(years, name1_series, '-o', label = name1)\n",
    "    ts_plot.plot(years, name2_series, '-o', label = name2)\n",
    "    ts_plot.set_title(\"Baby Names\") \n",
    "    ts_plot.legend(loc = 'best')\n",
    "    ts_plot.set_xlabel(\"Years\")\n",
    "    ts_plot.set_ylabel(\"Number\")\n",
    "    #Cross-correlation\n",
    "    x = scaler.fit_transform(pd.DataFrame(name1_series))\n",
    "    y = scaler.fit_transform(pd.DataFrame(name2_series))\n",
    "    x = x[:,0]\n",
    "    y = y[:,0]\n",
    "    xc_plot.xcorr(x,y, usevlines=True, maxlags=50, normed=True, lw=2)\n",
    "    xc_plot.legend(loc = 'best')\n",
    "    xc_plot.set_xlabel(\"Lags\")\n",
    "    xc_plot.set_title('Cross - correlation')\n",
    "    xc_plot.set_ylabel(\"Correlation\")\n"
   ]
  },
  {
   "cell_type": "markdown",
   "metadata": {},
   "source": [
    "## In Class Exercise 2\n",
    "\n",
    "Use crosscorr_names for several boy and girl names and then explain the resulting plots"
   ]
  }
 ],
 "metadata": {
  "kernelspec": {
   "display_name": "Python 3",
   "language": "python",
   "name": "python3"
  },
  "language_info": {
   "codemirror_mode": {
    "name": "ipython",
    "version": 3
   },
   "file_extension": ".py",
   "mimetype": "text/x-python",
   "name": "python",
   "nbconvert_exporter": "python",
   "pygments_lexer": "ipython3",
   "version": "3.6.3"
  }
 },
 "nbformat": 4,
 "nbformat_minor": 2
}
