{
 "cells": [
  {
   "cell_type": "markdown",
   "metadata": {},
   "source": [
    "# Time Series Introduction"
   ]
  },
  {
   "cell_type": "markdown",
   "metadata": {},
   "source": [
    "\n",
    "Observational or experimental data observed at points in time are called time series. Answering analytical questions about these data is called time series analysis. There are two major approaches to time series analysis: time domain and frequency domain.\n",
    "\n",
    "Time domain analysis views a time series as linear combination of past values of a noise series and a deterministic component (Wold, 1938).\n",
    "\n",
    "Frequency domain analysis views the time series as the linear combination of sine and cosine series at different frequencies (periods) (Cramer, 1942).\n",
    "\n",
    "This session introduces concepts from both approaches with implementations in python."
   ]
  },
  {
   "cell_type": "code",
   "execution_count": null,
   "metadata": {},
   "outputs": [],
   "source": [
    "%matplotlib inline\n",
    "\n",
    "# # Printing\n",
    "import locale\n",
    "\n",
    "\n",
    "# # Data\n",
    "import pandas as pd\n",
    "import numpy as np\n",
    "import scipy as sp\n",
    "import statsmodels.api as sm\n",
    "\n",
    "# # Time series\n",
    "\n",
    "from datetime import datetime\n",
    "from datetime import timedelta\n",
    "from dateutil.parser import parse\n",
    "\n",
    "\n",
    "\n",
    "# # Plotting\n",
    "\n",
    "import matplotlib.pyplot as plt\n",
    "\n",
    "# sns.set(style=\"darkgrid\", color_codes=True)\n",
    "\n",
    "\n",
    "\n",
    "\n"
   ]
  },
  {
   "cell_type": "markdown",
   "metadata": {},
   "source": [
    "# Time Series Formats\n",
    "\n",
    "Time is a scientific and cultural concept. Different cultures have chosen different approaches to measuring the passage of time and recording the current time. Some cultural examples:\n",
    "\n",
    "- Time zones vs. local times\n",
    "- Day light savings\n",
    "- Solar vs. lunar calendars\n",
    "\n",
    "Cultural differences and different scientific uses have produced many different formats for dates and times. Some examples:\n",
    "\n",
    " - M-D-Y, \n",
    " - D-M-Y, \n",
    " - D/M/Y, \n",
    " - Hr:Min AM/PM (12 hour), \n",
    " - Hr+Min (24 hour)\n",
    " - Can measure time as counts (seconds) from a start point, e.g., unix time measured from Jan 1 1970, minus leap seconds  \n",
    "\n",
    "To do data science with temporal data requires parsers to read the different formats. \n"
   ]
  },
  {
   "cell_type": "markdown",
   "metadata": {},
   "source": [
    "## Explicit time formating"
   ]
  },
  {
   "cell_type": "code",
   "execution_count": null,
   "metadata": {},
   "outputs": [],
   "source": [
    "# Functions to convert datetimes to strings\n",
    "time = datetime.now()\n",
    "str(time)"
   ]
  },
  {
   "cell_type": "code",
   "execution_count": null,
   "metadata": {},
   "outputs": [],
   "source": [
    "time"
   ]
  },
  {
   "cell_type": "code",
   "execution_count": null,
   "metadata": {},
   "outputs": [],
   "source": [
    "# Get just the date\n",
    "time.strftime('%Y-%m-%d')"
   ]
  },
  {
   "cell_type": "code",
   "execution_count": null,
   "metadata": {},
   "outputs": [],
   "source": [
    "# Going back to datetime\n",
    "stime = time.strftime('%Y-%m-%d')\n",
    "datetime.strptime(stime,'%Y-%m-%d')"
   ]
  },
  {
   "cell_type": "markdown",
   "metadata": {},
   "source": [
    "## Time parser function"
   ]
  },
  {
   "cell_type": "code",
   "execution_count": null,
   "metadata": {},
   "outputs": [],
   "source": [
    "# There is a parser\n",
    "\n",
    "parse(stime)"
   ]
  },
  {
   "cell_type": "code",
   "execution_count": null,
   "metadata": {},
   "outputs": [],
   "source": [
    "# the parser will work with lots of text\n",
    "parse('Nov 24, 2017, 10:30 am')"
   ]
  },
  {
   "cell_type": "code",
   "execution_count": null,
   "metadata": {},
   "outputs": [],
   "source": [
    "time.year, time.month, time.day"
   ]
  },
  {
   "cell_type": "code",
   "execution_count": null,
   "metadata": {},
   "outputs": [],
   "source": [
    "dt = timedelta(5)\n",
    "datetime.now() + dt"
   ]
  },
  {
   "cell_type": "markdown",
   "metadata": {},
   "source": [
    "## Elements of a time series\n",
    "\n",
    "- Trend\n",
    "- Seasonality or periodicity\n",
    "- Cycles\n",
    "- Randomness"
   ]
  },
  {
   "cell_type": "markdown",
   "metadata": {},
   "source": [
    "## Example - Airline Passenger Data\n",
    "\n",
    "Get the airline passenger data from the url below and read it into a data frame. Look at its shape.\n",
    "\n",
    "https://datamarket.com/data/set/22u3/international-airline-passengers-monthly-totals-in-thousands-jan-49-dec-60#!ds=22u3&display=line"
   ]
  },
  {
   "cell_type": "code",
   "execution_count": null,
   "metadata": {},
   "outputs": [],
   "source": [
    "path = \n",
    "file = \n",
    "airlines = pd.read_csv(path+file,  header = 0, names = ['Date', 'Passengers'])\n",
    "airlines.shape"
   ]
  },
  {
   "cell_type": "code",
   "execution_count": null,
   "metadata": {},
   "outputs": [],
   "source": [
    "airlines.head()\n"
   ]
  },
  {
   "cell_type": "code",
   "execution_count": null,
   "metadata": {},
   "outputs": [],
   "source": [
    "# Null values?\n",
    "\n",
    "airlines.isnull().sum()"
   ]
  },
  {
   "cell_type": "code",
   "execution_count": null,
   "metadata": {},
   "outputs": [],
   "source": [
    "# Get index for null value\n",
    "airlines[airlines['Passengers'].isnull()].index.tolist()"
   ]
  },
  {
   "cell_type": "code",
   "execution_count": null,
   "metadata": {},
   "outputs": [],
   "source": [
    "# Remove it\n",
    "\n",
    "airlines.drop(144, inplace = True)"
   ]
  },
  {
   "cell_type": "code",
   "execution_count": null,
   "metadata": {},
   "outputs": [],
   "source": [
    "# Making column Date into a datetime index.\n",
    "\n",
    "airlines['Date'] = pd.to_datetime(airlines['Date'], format = \"%Y-%m\")\n",
    "\n",
    "airlines.index = airlines['Date']\n",
    "airlines.drop('Date', axis = 1, inplace = True)\n",
    "airlines.head()"
   ]
  },
  {
   "cell_type": "code",
   "execution_count": null,
   "metadata": {},
   "outputs": [],
   "source": [
    "# Plot the passenger data\n",
    "\n",
    "plt.figure(figsize = (15,10))\n",
    "\n",
    "\n",
    "airlines.Passengers.plot()\n",
    "plt.xlabel('Date')\n",
    "plt.ylabel('No. of Passengers (thousands)')\n",
    "plt.title(\"International Airline Passengers\")"
   ]
  },
  {
   "cell_type": "code",
   "execution_count": null,
   "metadata": {},
   "outputs": [],
   "source": [
    "# Decomposing the elements of the time series\n",
    "\n",
    "\n",
    "from statsmodels.tsa.seasonal import seasonal_decompose\n",
    "\n",
    "#s=sm.tsa.seasonal_decompose(airlines.Passengers)\n",
    "\n",
    "decomposition = seasonal_decompose(airlines.Passengers, freq = 12)\n",
    "\n",
    "trend = decomposition.trend\n",
    "seasonal = decomposition.seasonal\n",
    "residual = decomposition.resid\n",
    "\n",
    "\n",
    "\n",
    "fig = plt.figure(figsize = (14,11))\n",
    "plt.subplots_adjust(hspace = .5)\n",
    "\n",
    "ts = fig.add_subplot(4, 1, 1)\n",
    "airlines.Passengers.plot()\n",
    "ts.set_title(\"Airline Passenger Data\")\n",
    "ts_trend = fig.add_subplot(4,1,2)\n",
    "trend.plot()\n",
    "ts_trend.set_title('Airline Passenger Trend')\n",
    "ts_seasonal = fig.add_subplot(4,1,3)\n",
    "seasonal.plot()\n",
    "ts_seasonal.set_title('Airline Passenger Seasonality')\n",
    "ts_residual = fig.add_subplot(4,1,4)\n",
    "residual.plot()\n",
    "ts_residual.set_title('Airline Passenger Residuals')"
   ]
  },
  {
   "cell_type": "markdown",
   "metadata": {},
   "source": [
    "## Time domain filters\n",
    "\n",
    "Remove some data elements in order to focus on other elements\n",
    "\n",
    "- Low pass filters remove the high fequency components\n",
    "- High pass filters remove the low fequency components"
   ]
  },
  {
   "cell_type": "code",
   "execution_count": null,
   "metadata": {},
   "outputs": [],
   "source": [
    "# Filters - Moving Averages\n",
    "\n",
    "# Plot moving (rolling) averages at 3, 6 and 12 months.\n",
    "# Also plot the standard deviation for 3 months\n",
    "\n",
    "\n",
    "fig = plt.figure(figsize = (14,11))\n",
    "ts = fig.add_subplot(1, 1, 1)\n",
    "airlines.Passengers.plot(label = 'Airline Passengers')\n",
    "airlines.Passengers.rolling(window =  3, center = True).mean().plot(label = 'Rolling 3 Month Mean')\n",
    "airlines.Passengers.rolling(window =  6, center = True).mean().plot(label = 'Rolling 6 Month Mean')\n",
    "airlines.Passengers.rolling(window =  12, center = True).mean().plot(label = 'Rolling 12 Month Mean')\n",
    "airlines.Passengers.rolling(window =  12, center = True).std().plot(label = 'Rolling 3 Month STD')\n",
    "\n",
    "ts.legend(loc = 'best')\n",
    "ts.set_title(\"International Airline Passengers\")\n",
    "ts.set_ylabel(\"No. of Passengers (Thousands)\")\n",
    "ts.set_xlabel(\"Years\")\n"
   ]
  },
  {
   "cell_type": "code",
   "execution_count": null,
   "metadata": {},
   "outputs": [],
   "source": [
    "# Filters - Differences\n",
    "\n",
    "fig = plt.figure(figsize = (14,11))\n",
    "ts_diff = fig.add_subplot(1,1,1)\n",
    "\n",
    "airlines['Passengers'].diff(1).plot(label = 'First Difference')\n",
    "airlines['Passengers'].diff(3).plot(label = '3rd Difference')\n",
    "airlines['Passengers'].diff(6).plot(label = '6th Difference')\n",
    "airlines['Passengers'].diff(12).plot(label = '12th Difference')\n",
    "\n",
    "ts_diff.legend(loc = 'best')\n"
   ]
  },
  {
   "cell_type": "markdown",
   "metadata": {},
   "source": [
    "\n",
    "## Stationarity\n",
    "\n",
    "\n",
    "Given a time series $x_t, t = 1,2, \\ldots, N$ we want to know and describe the relationship between $x_t$ and $x_s$ for $t,s \\in \\{1,2,\\ldots,N$. We call $k$ for $x_{t-k}$ a lag of $k$ at time $t$. Similarly, we call $k$ for $x_{t+k}$ a lead of $k$ at time $t$.\n",
    "\n",
    "The mean of the time series, $\\mu$, is constant and the autocovariance, C, is a function only of the lag (or lead). So\n",
    "\n",
    "$E[(x_t- \\mu)(x_{t-k} - \\mu)] = C(t,t-k) = C(k)$"
   ]
  },
  {
   "cell_type": "code",
   "execution_count": null,
   "metadata": {},
   "outputs": [],
   "source": [
    "# Dickey-Fuller test of stationarity\n",
    "# \n",
    "\n",
    "from statsmodels.tsa.stattools import adfuller\n",
    "\n",
    "def test_stationarity(timeseries):\n",
    "    #Perform Dickey-Fuller test:\n",
    "    # Null hypothesis is that the data are non-stationary\n",
    "    print ('Dickey-Fuller Test:')\n",
    "    dftest = adfuller(timeseries, autolag='AIC')\n",
    "    dfoutput = pd.Series(dftest[0:4], index=['Test Statistic','p-value','#Lags Used','Number of Observations Used'])\n",
    "    for key,value in dftest[4].items():\n",
    "        dfoutput['Critical Value (%s)'%key] = value\n",
    "    print (dfoutput) "
   ]
  },
  {
   "cell_type": "code",
   "execution_count": null,
   "metadata": {},
   "outputs": [],
   "source": [
    "# Test airlines data for stationarity\n",
    "\n",
    "test_stationarity(airlines['Passengers'])"
   ]
  },
  {
   "cell_type": "markdown",
   "metadata": {},
   "source": [
    "## Autocorrelation and Partial Autocorrelation\n",
    "\n",
    "For lag $k$ let $C(k)$ be the autocorrelation between $x_t, x_{t-k}, t = 1,2,\\ldots,N$. Then the autocorrelation at $k$  is $\\rho(k) = \\frac{C(k)}{C(0)}$.\n",
    "\n",
    "Let $z_t = x_t - E(x)$. The partial autocorrelation at lag $k$ is the last coefficient in the regression:\n",
    "\\begin{equation*}\n",
    "z_t = \\phi_{t-1}z_{t-1} + \\phi_{t-2}z_{t-2} + \\cdots \\ + \\phi_{t-k}z_{t-k} + \\epsilon\n",
    "\\end{equation*}"
   ]
  },
  {
   "cell_type": "code",
   "execution_count": null,
   "metadata": {},
   "outputs": [],
   "source": [
    "\n",
    "# Autocorrelation and partial autocorrelations for the airline data.\n",
    "\n",
    "fig = plt.figure(figsize=(12,8))\n",
    "ax1 = fig.add_subplot(211)\n",
    "fig = sm.graphics.tsa.plot_acf(airlines['Passengers'], lags=20, ax=ax1)\n",
    "ax2 = fig.add_subplot(212)\n",
    "fig = sm.graphics.tsa.plot_pacf(airlines['Passengers'], lags=20, ax=ax2)"
   ]
  },
  {
   "cell_type": "markdown",
   "metadata": {},
   "source": [
    "# Frequency Domain"
   ]
  },
  {
   "cell_type": "markdown",
   "metadata": {},
   "source": [
    "Model the time series as Fourier frequencies with sine and cosine functions. Generally,\n",
    "\n",
    "$x_t = \\sum_{k=1}^Q [a_{1k}sin(2\\pi\\nu_kt) + a_{2k}cos(2\\pi\\nu_kt)]$\n",
    "\n",
    "where $\\nu$ is the frequency and the period is $1/\\nu$. For computational reasons we use the\n",
    "discrete Fourier transform:\n",
    "\n",
    "$X(\\nu_k) = n^{-\\frac{1}{2}} \\sum_{t=1}^n x_t exp(-2\\pi i\\nu_k t)  $\n",
    "\n",
    "Graphs of the FFT give the periordogram which plots power vs. frequency"
   ]
  },
  {
   "cell_type": "code",
   "execution_count": null,
   "metadata": {},
   "outputs": [],
   "source": [
    "# Get the FFT for the passenger series\n",
    "\n",
    "passengers_fft = sp.fftpack.fft(airlines['Passengers'])\n",
    "passengers_psd = np.abs(passengers_fft)**2"
   ]
  },
  {
   "cell_type": "code",
   "execution_count": null,
   "metadata": {},
   "outputs": [],
   "source": [
    "# Filter by positive frequencies\n",
    "\n",
    "passengers_fftfreq = sp.fftpack.fftfreq(len(passengers_psd), 1/12)\n",
    "i = passengers_fftfreq > 0 "
   ]
  },
  {
   "cell_type": "code",
   "execution_count": null,
   "metadata": {},
   "outputs": [],
   "source": [
    "# Plot the Periodogram and find the frequencies\n",
    "\n",
    "plt.figure(figsize = (14,11))\n",
    "plt.plot(passengers_fftfreq[i], 10*np.log10(passengers_psd[i]))\n",
    "#plt.xlim(0,5)\n",
    "plt.xlabel('Frequency (1/year)')\n",
    "plt.ylabel('PSD (dB)')\n",
    "plt.title('Spectral Density of Airline Passengers')"
   ]
  },
  {
   "cell_type": "code",
   "execution_count": null,
   "metadata": {},
   "outputs": [],
   "source": [
    "# Remove all frequencies that are harmonics\n",
    "# Invert the FFT to get a model of the time series\n",
    "# Use only the real part\n",
    "\n",
    "passengers_fft_bis = passengers_fft.copy() # get a copy\n",
    "passengers_fft_bis[np.abs(passengers_fftfreq > 1.1)] = 0 # remove harmonics\n",
    "passengers_freqfit = np.real(sp.fftpack.ifft(passengers_fft_bis)) #invert fft\n",
    "passengers_freqfit = pd.Series(passengers_freqfit, index = airlines.index)"
   ]
  },
  {
   "cell_type": "code",
   "execution_count": null,
   "metadata": {},
   "outputs": [],
   "source": [
    "# \n",
    "# Then plot on the original series\n",
    "# with the frequency model\n",
    "\n",
    "fig = plt.figure(figsize = (14,11))\n",
    "ts = fig.add_subplot(1, 1, 1)\n",
    "airlines['Passengers'].plot(label = 'Airline Passengers')\n",
    "passengers_freqfit.plot(label = 'Frequency Filter')\n",
    "\n",
    "ts.legend(loc = 'best')\n",
    "ts.set_title(\"International Airline Passengers\")\n",
    "plt.xlabel('Dates')\n",
    "plt.ylabel('No. of Passengers (thousands)')"
   ]
  },
  {
   "cell_type": "markdown",
   "metadata": {},
   "source": [
    "# Exercises\n",
    "\n",
    "Load each of the data sets (from Schumway, 2014):\n",
    "\n",
    "    - speech.csv (speech recording)\n",
    "    - liveBirths.txt (U.S. Monthly Live Births)\n",
    "    - oil.csv (Crude oil, WTI spot price FOB)\n",
    "    - globtemp.csv (Global mean land-ocean temperature deviations)\n",
    "    - flu.csv (Monthly pneumonia and influenza deaths in the U.S., 1968 to 1978)\n",
    "    \n",
    "For each of these time series do the following\n",
    "\n",
    "    1. Decompose to show the elements of the time series\n",
    "    2. Filter based on moving averages (at least 3) and differences (at least the first)\n",
    "    3. Plot the autocorrelations and partial autocorrelations\n",
    "    4. Plot the periodogram and the frequencies with the original series\n",
    "    5. Based on these filters and visualizations, comment on the characteristics (elements) of the time series\n"
   ]
  },
  {
   "cell_type": "code",
   "execution_count": null,
   "metadata": {},
   "outputs": [],
   "source": []
  }
 ],
 "metadata": {
  "kernelspec": {
   "display_name": "Python 3",
   "language": "python",
   "name": "python3"
  },
  "language_info": {
   "codemirror_mode": {
    "name": "ipython",
    "version": 3
   },
   "file_extension": ".py",
   "mimetype": "text/x-python",
   "name": "python",
   "nbconvert_exporter": "python",
   "pygments_lexer": "ipython3",
   "version": "3.6.3"
  }
 },
 "nbformat": 4,
 "nbformat_minor": 1
}
